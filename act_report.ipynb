{
 "cells": [
  {
   "cell_type": "markdown",
   "metadata": {},
   "source": [
    "# Report (act_report) on Wrangle an Analyze Data Project"
   ]
  },
  {
   "cell_type": "markdown",
   "metadata": {},
   "source": [
    "#### Created by Akbarali Mukhammadiev"
   ]
  },
  {
   "cell_type": "markdown",
   "metadata": {},
   "source": [
    "### Introduction"
   ]
  },
  {
   "cell_type": "markdown",
   "metadata": {},
   "source": [
    "As it was stated that the real-world data rarely comes clean. Therefore, it is utmost important now to have skills like data wrangling, cleaning, assessning and visualizing the data. The current project was exactly aimed to improve our skills of data wrangling. Through this project, I improved my not only data wrangling, cleaning, assessning and visualizing skils but also, my data sharing and reporting skills. "
   ]
  },
  {
   "cell_type": "markdown",
   "metadata": {},
   "source": [
    "After going through each step as I have described in the `wrangle_report` file one by one and finalize the project, I gained the following insights:"
   ]
  },
  {
   "cell_type": "markdown",
   "metadata": {},
   "source": [
    "### Results"
   ]
  },
  {
   "cell_type": "markdown",
   "metadata": {},
   "source": [
    "Through this project, first result that I acquired is while using the Twitter API and gathering data. Moreover, I extracted and downloaded data from the data sourses and web pages. \n",
    "\n",
    "The following result that I achieved from the datasets above is that concerning the *favorite_count* column. The difference between the mostly liked (favorited) tweet and leastly liked (favorited) by the fans of the @dog_rates account is really huge. The most liked tweet is overall 147360 times liked (favorited) by fans and the least liked one is only 67 times. The most interesting fact is that this tweet was about *pupper* and *doggo* dog types. This means that these two type of dogs are much more interested by the fans. In fact, the most interesting fact is that they are no tweets that aren't favorited at all by the fans within the entire dataset.\n",
    "\n",
    "\n",
    "Finally, the last result that I obtained from the datsets above is that concerning the types or stages of dogs. Analysing and visualizing all the data regarding *stages_of_dogs* column, I have recognozed that the most frequent dog types are as expected *pupper* and *doggo* dog types. We will see the corresponding visulization below. Overall conclusion that I gained from this project is the fact that people like dogs a lot. This is also can be seen from the fact that the followers of the @WeRateDogs on Twitter is a lot that is about 10 mln followers. "
   ]
  },
  {
   "cell_type": "markdown",
   "metadata": {},
   "source": [
    "### Visualizations"
   ]
  },
  {
   "cell_type": "markdown",
   "metadata": {},
   "source": [
    "Finally, in order to find the most frequent stage of dog, I have used the following visualization using Python's `matplotlib` library:"
   ]
  },
  {
   "cell_type": "code",
   "execution_count": 1,
   "metadata": {},
   "outputs": [
    {
     "data": {
      "image/png": "[encoded data removed]",
      "text/plain": [
       "<matplotlib.figure.Figure at 0x7f2b70e96c88>"
      ]
     },
     "metadata": {},
     "output_type": "display_data"
    }
   ],
   "source": [
    "import pandas as pd\n",
    "df = pd.read_csv('twitter_archive_master.csv')\n",
    "import matplotlib.pyplot as plt\n",
    "%matplotlib inline\n",
    "import seaborn as sns\n",
    "sns.set()\n",
    "length=list(df['stages_of_dog'].value_counts().sort_values())\n",
    "width=list(df['stages_of_dog'].value_counts().sort_values().index)\n",
    "fig = plt.figure()\n",
    "ax = fig.add_axes([1,1,1.5,1.5])\n",
    "ax.bar(width, length)\n",
    "plt.xlabel(\"Stages of Dogs\")\n",
    "plt.ylabel(\"Frequency\")\n",
    "ax.set_title(\"Frequency VS. Stages of Dogs\")\n",
    "plt.show()"
   ]
  },
  {
   "cell_type": "code",
   "execution_count": 2,
   "metadata": {},
   "outputs": [
    {
     "data": {
      "text/plain": [
       "0"
      ]
     },
     "execution_count": 2,
     "metadata": {},
     "output_type": "execute_result"
    }
   ],
   "source": [
    "from subprocess import call\n",
    "call(['python', '-m', 'nbconvert', 'act_report.ipynb'])"
   ]
  },
  {
   "cell_type": "code",
   "execution_count": null,
   "metadata": {},
   "outputs": [],
   "source": []
  }
 ],
 "metadata": {
  "kernelspec": {
   "display_name": "Python 3",
   "language": "python",
   "name": "python3"
  },
  "language_info": {
   "codemirror_mode": {
    "name": "ipython",
    "version": 3
   },
   "file_extension": ".py",
   "mimetype": "text/x-python",
   "name": "python",
   "nbconvert_exporter": "python",
   "pygments_lexer": "ipython3",
   "version": "3.6.3"
  }
 },
 "nbformat": 4,
 "nbformat_minor": 2
}
