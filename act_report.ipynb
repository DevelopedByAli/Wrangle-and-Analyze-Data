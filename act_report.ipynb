{
 "cells": [
  {
   "cell_type": "markdown",
   "metadata": {},
   "source": [
    "# Report (act_report) on Wrangle an Analyze Data Project"
   ]
  },
  {
   "cell_type": "markdown",
   "metadata": {},
   "source": [
    "#### Created by Akbarali Mukhammadiev"
   ]
  },
  {
   "cell_type": "markdown",
   "metadata": {},
   "source": [
    "Real-world data rarely comes clean. In the framwork of this project, I was required to use Python and its libraries, gather data from many sources and in various formats, assess its quality and tidiness, and then clean it up. This process is called data wrangling. I was also required to document my efforts in a Jupyter notebook and demonstrate them through analysis and visualization using Python (and its libraries e.g. Numpy, Pandas, Matplotlib, Seaborn etc.) and/or SQL."
   ]
  },
  {
   "cell_type": "markdown",
   "metadata": {},
   "source": [
    "*The list of tasks that I performed in this project are as follows:*"
   ]
  },
  {
   "cell_type": "markdown",
   "metadata": {},
   "source": [
    "Step 1: Gathering data\n",
    "\n",
    "Step 2: Assessing data\n",
    "\n",
    "Step 3: Cleaning data\n",
    "\n",
    "Step 4: Storing data\n",
    "\n",
    "Step 5: Analyzing, and visualizing data\n",
    "\n",
    "Step 6: Reporting\n",
    "\n",
    "    1. my data wrangling efforts\n",
    "    2. my data analyses and visualizations"
   ]
  },
  {
   "cell_type": "markdown",
   "metadata": {},
   "source": [
    "In step 1, I gathered all three pieces of data as described in the \"Data Gathering\" section in the `wrangle_act.ipynb` notebook. I was already given a file `twitter_archive_enhanced.csv` to download manually. I downloaded it, then uploaded it and read the data into a pandas DataFrame using pandas `.read_csv()` function. The second dataset `image_predictions.tsv` was given to download programmatically. I performed the task using Python's `Requests` library. Finally, the third dataset was required to download from Twitter with (at minimum) tweet ID, retweet count, and favorite count. I performed this task using twitter API keys from my twitter developer account and Python's `Tweepy` library. "
   ]
  },
  {
   "cell_type": "markdown",
   "metadata": {},
   "source": [
    "Then, after going through each step one by one and finalize the project, I gained the following insights:"
   ]
  },
  {
   "cell_type": "markdown",
   "metadata": {},
   "source": [
    "\n",
    "1. The first insight that I have gained from the datasets above is that regarding the unique rating system of the dogs that were rated by @dog_rates. I found it unique because the numerator is always greater than the denomenator. The most frequent rating is given to the different types of of dogs is *12/10*.\n",
    "\n",
    "2. The next insight that I achieved from the datasets above is that concerning the *favorite_count* column. There was a tweet that was mostly favorited by fans of the @dog_rates. It is actually overall 147360 times favorited. They were some tweets that wasn't favorited at all by fans with overall 0 favorited count.\n",
    "\n",
    "3. Finally, the last insight that I obtained from the datsets above is that concerning the types or stages of dogs. I have recognozed that the most frequent dog types are *pupper* and *doggo* types. The most important thing is that people like dogs a lot. I recognized it because the followers of the WeRateDogs on Twitter is about 10 mln followers. "
   ]
  },
  {
   "cell_type": "markdown",
   "metadata": {},
   "source": [
    "Finally, in order to find the most frequent stage of dog, I have used the following visualization using Python's `matplotlib` library:"
   ]
  },
  {
   "cell_type": "code",
   "execution_count": 2,
   "metadata": {},
   "outputs": [
    {
     "data": {
      "image/png": "[encoded data removed]",
      "text/plain": [
       "<matplotlib.figure.Figure at 0x7f705c9527b8>"
      ]
     },
     "metadata": {},
     "output_type": "display_data"
    }
   ],
   "source": [
    "import pandas as pd\n",
    "df = pd.read_csv('twitter_archive_master.csv')\n",
    "import matplotlib.pyplot as plt\n",
    "%matplotlib inline\n",
    "import seaborn as sns\n",
    "sns.set()\n",
    "length=list(df['stages_of_dog'].value_counts().sort_values())\n",
    "width=list(df['stages_of_dog'].value_counts().sort_values().index)\n",
    "fig = plt.figure()\n",
    "ax = fig.add_axes([1,1,1.5,1.5])\n",
    "ax.bar(width, length)\n",
    "plt.xlabel(\"Stages of Dogs\")\n",
    "plt.ylabel(\"Frequency\")\n",
    "ax.set_title(\"Frequency VS. Stages of Dogs\")\n",
    "plt.show()"
   ]
  },
  {
   "cell_type": "code",
   "execution_count": null,
   "metadata": {},
   "outputs": [],
   "source": [
    "from subprocess import call\n",
    "call(['python', '-m', 'nbconvert', 'act_report.ipynb'])"
   ]
  }
 ],
 "metadata": {
  "kernelspec": {
   "display_name": "Python 3",
   "language": "python",
   "name": "python3"
  },
  "language_info": {
   "codemirror_mode": {
    "name": "ipython",
    "version": 3
   },
   "file_extension": ".py",
   "mimetype": "text/x-python",
   "name": "python",
   "nbconvert_exporter": "python",
   "pygments_lexer": "ipython3",
   "version": "3.6.3"
  }
 },
 "nbformat": 4,
 "nbformat_minor": 2
}
